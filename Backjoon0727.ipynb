{
  "nbformat": 4,
  "nbformat_minor": 0,
  "metadata": {
    "colab": {
      "name": "Backjoon0727",
      "provenance": [],
      "authorship_tag": "ABX9TyMreKM72Cl+wcMCgPgKxXpe",
      "include_colab_link": true
    },
    "kernelspec": {
      "name": "python3",
      "display_name": "Python 3"
    },
    "language_info": {
      "name": "python"
    }
  },
  "cells": [
    {
      "cell_type": "markdown",
      "metadata": {
        "id": "view-in-github",
        "colab_type": "text"
      },
      "source": [
        "<a href=\"https://colab.research.google.com/github/Madung2/BaekJoon/blob/main/Backjoon0727.ipynb\" target=\"_parent\"><img src=\"https://colab.research.google.com/assets/colab-badge.svg\" alt=\"Open In Colab\"/></a>"
      ]
    },
    {
      "cell_type": "markdown",
      "source": [
        "알파벳 대소문자로 된 단어가 주어지면, 이 단어에서 가장 많이 사용된 알파벳이 무엇인지 알아내는 프로그램을 작성하시오. 단, 대문자와 소문자를 구분하지 않는다.\n",
        "\n"
      ],
      "metadata": {
        "id": "iWMjshPF9zJ6"
      }
    },
    {
      "cell_type": "code",
      "execution_count": null,
      "metadata": {
        "colab": {
          "base_uri": "https://localhost:8080/"
        },
        "id": "g_ogoalm9tcj",
        "outputId": "3017a845-c42b-487b-c45a-2d70a1c3018d"
      },
      "outputs": [
        {
          "output_type": "stream",
          "name": "stdout",
          "text": [
            "baaa\n",
            "a\n",
            "a\n",
            "a\n"
          ]
        }
      ],
      "source": [
        "word = input().lower()\n",
        "\n",
        "num=0\n",
        "dic ={}\n",
        "a= 1\n",
        "for i in word:\n",
        "  new_count = word.count(i)\n",
        "  dic[i] = new_count\n",
        "     \n",
        "  if a < new_count:\n",
        "    result =i \n",
        "    a= new_count\n",
        "\n",
        "reversed_dic = dict(map(reversed,dic.items()))\n",
        "\n",
        "if reversed_dic[a]!=result:\n",
        "  print(\"?\")\n",
        "else:\n",
        "  print(reversed_dic[a])\n",
        "\n",
        "\n",
        "\n",
        "\n",
        "\n",
        "#Mississipi\n",
        "#딕셔너리에 각 글자와 갯수를 넣자\n",
        "#그리고 max를 사용해서 최대값을 찾고 그에 해당하는 키를 찾자\n",
        "# if \n"
      ]
    },
    {
      "cell_type": "code",
      "source": [
        "print(result)"
      ],
      "metadata": {
        "colab": {
          "base_uri": "https://localhost:8080/"
        },
        "id": "fj-zfdBUFYPR",
        "outputId": "cf13b0fe-7d08-4f44-c212-94026f631553"
      },
      "execution_count": null,
      "outputs": [
        {
          "output_type": "stream",
          "name": "stdout",
          "text": [
            "i\n"
          ]
        }
      ]
    },
    {
      "cell_type": "markdown",
      "source": [
        "예전에는 운영체제에서 크로아티아 알파벳을 입력할 수가 없었다. 따라서, 다음과 같이 크로아티아 알파벳을 변경해서 입력했다.\n",
        "\n",
        "크로아티아 알파벳\t변경\n",
        "č\tc=\n",
        "ć\tc-\n",
        "dž\tdz=\n",
        "đ\td-\n",
        "lj\tlj\n",
        "nj\tnj\n",
        "š\ts=\n",
        "ž\tz=\n",
        "예를 들어, ljes=njak은 크로아티아 알파벳 6개(lj, e, š, nj, a, k)로 이루어져 있다. 단어가 주어졌을 때, 몇 개의 크로아티아 알파벳으로 이루어져 있는지 출력한다.\n",
        "\n",
        "dž는 무조건 하나의 알파벳으로 쓰이고, d와 ž가 분리된 것으로 보지 않는다. lj와 nj도 마찬가지이다. 위 목록에 없는 알파벳은 한 글자씩 센다."
      ],
      "metadata": {
        "id": "c0qu_SzhHJwa"
      }
    },
    {
      "cell_type": "code",
      "source": [
        "word = input()\n",
        "word1=word.replace('dz=','d').replace('-','').replace('=','').replace('lj','l').replace('nj','n')\n",
        "\n",
        "print(len(word1))"
      ],
      "metadata": {
        "colab": {
          "base_uri": "https://localhost:8080/"
        },
        "id": "HAebTtC_HCbp",
        "outputId": "2990f78e-23d1-4545-9b93-9d343a087aad"
      },
      "execution_count": null,
      "outputs": [
        {
          "output_type": "stream",
          "name": "stdout",
          "text": [
            "ljes=njak\n",
            "6\n"
          ]
        }
      ]
    },
    {
      "cell_type": "markdown",
      "source": [
        "그룹 단어란 단어에 존재하는 모든 문자에 대해서, 각 문자가 연속해서 나타나는 경우만을 말한다. 예를 들면, ccazzzzbb는 c, a, z, b가 모두 연속해서 나타나고, kin도 k, i, n이 연속해서 나타나기 때문에 그룹 단어이지만, aabbbccb는 b가 떨어져서 나타나기 때문에 그룹 단어가 아니다.\n",
        "\n",
        "단어 N개를 입력으로 받아 그룹 단어의 개수를 출력하는 프로그램을 작성하시오."
      ],
      "metadata": {
        "id": "wKf6srNrJQ6S"
      }
    },
    {
      "cell_type": "code",
      "source": [
        "word= input()\n",
        "for a in word:\n",
        "  if 다른 a가 있을때:\n",
        "    그 a의 전 index가 a가 아니라면 false\n",
        "다 돌았는데도 false가 아니라면 True"
      ],
      "metadata": {
        "id": "TLtPcPieJPOv"
      },
      "execution_count": null,
      "outputs": []
    },
    {
      "cell_type": "code",
      "source": [
        "\n",
        "#다른 a를 찾는 함수\n",
        "def find_group_word(word):\n",
        "  for i in range(len(word)):\n",
        "    for j in range(i+1, len(word)):\n",
        "      if (word[i]==word[j]) and (word[j-1]!=word[i]):\n",
        "        return False\n",
        "  return True\n",
        "num= int(input())\n",
        "count=0\n",
        "for a in range(num):\n",
        "  word=input()\n",
        "  result =find_group_word(word)\n",
        "  if result==True:\n",
        "    count+=1\n",
        "print(count)"
      ],
      "metadata": {
        "colab": {
          "base_uri": "https://localhost:8080/"
        },
        "id": "GWCnpyKkuU5F",
        "outputId": "dd4b5fd2-bce9-4386-cd09-2c5b43ae9c41"
      },
      "execution_count": 18,
      "outputs": [
        {
          "output_type": "stream",
          "name": "stdout",
          "text": [
            "5\n",
            "ab\n",
            "aa\n",
            "aca\n",
            "ba\n",
            "bb\n",
            "4\n"
          ]
        }
      ]
    }
  ]
}