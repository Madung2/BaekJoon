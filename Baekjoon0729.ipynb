{
  "nbformat": 4,
  "nbformat_minor": 0,
  "metadata": {
    "colab": {
      "name": "Baekjoon0729",
      "provenance": [],
      "authorship_tag": "ABX9TyNudwNZ87nMUGKD3nuNBjd+",
      "include_colab_link": true
    },
    "kernelspec": {
      "name": "python3",
      "display_name": "Python 3"
    },
    "language_info": {
      "name": "python"
    }
  },
  "cells": [
    {
      "cell_type": "markdown",
      "metadata": {
        "id": "view-in-github",
        "colab_type": "text"
      },
      "source": [
        "<a href=\"https://colab.research.google.com/github/Madung2/BaekJoon/blob/main/Baekjoon0729.ipynb\" target=\"_parent\"><img src=\"https://colab.research.google.com/assets/colab-badge.svg\" alt=\"Open In Colab\"/></a>"
      ]
    },
    {
      "cell_type": "markdown",
      "source": [
        "666은 종말을 나타내는 숫자라고 한다. 따라서, 많은 블록버스터 영화에서는 666이 들어간 제목을 많이 사용한다. 영화감독 숌은 세상의 종말 이라는 시리즈 영화의 감독이다. 조지 루카스는 스타워즈를 만들 때, 스타워즈 1, 스타워즈 2, 스타워즈 3, 스타워즈 4, 스타워즈 5, 스타워즈 6과 같이 이름을 지었고, 피터 잭슨은 반지의 제왕을 만들 때, 반지의 제왕 1, 반지의 제왕 2, 반지의 제왕 3과 같이 영화 제목을 지었다.\n",
        "\n",
        "하지만 숌은 자신이 조지 루카스와 피터 잭슨을 뛰어넘는다는 것을 보여주기 위해서 영화 제목을 좀 다르게 만들기로 했다.\n",
        "\n",
        "종말의 숫자란 어떤 수에 6이 적어도 3개이상 연속으로 들어가는 수를 말한다. 제일 작은 종말의 숫자는 666이고, 그 다음으로 큰 수는 1666, 2666, 3666, .... 과 같다.\n",
        "\n",
        "따라서, 숌은 첫 번째 영화의 제목은 세상의 종말 666, 두 번째 영화의 제목은 세상의 종말 1666 이렇게 이름을 지을 것이다. 일반화해서 생각하면, N번째 영화의 제목은 세상의 종말 (N번째로 작은 종말의 숫자) 와 같다.\n",
        "\n",
        "숌이 만든 N번째 영화의 제목에 들어간 숫자를 출력하는 프로그램을 작성하시오. 숌은 이 시리즈를 항상 차례대로 만들고, 다른 영화는 만들지 않는다."
      ],
      "metadata": {
        "id": "Bak45zwkRBgh"
      }
    },
    {
      "cell_type": "code",
      "execution_count": null,
      "metadata": {
        "colab": {
          "base_uri": "https://localhost:8080/"
        },
        "id": "sUpJWgoOQ7bx",
        "outputId": "14d3adef-371a-4ae1-f530-4a319ed50260"
      },
      "outputs": [
        {
          "output_type": "stream",
          "name": "stdout",
          "text": [
            "500\n",
            "499666\n"
          ]
        }
      ],
      "source": [
        "count=0\n",
        "n=int(input())\n",
        "six_n=666\n",
        "while True:\n",
        "  if '666' in str(six_n):\n",
        "    count+=1\n",
        "  if count==n:\n",
        "    print(six_n)\n",
        "    break\n",
        "  six_n+=1\n",
        "\n"
      ]
    },
    {
      "cell_type": "code",
      "source": [
        "3자리 숫자중 가장 큰 수 666 =1개\n",
        "4자리 숫자중 가장 큰 수 9666  (9-1)*1+9\n",
        "\n",
        "\n",
        "666\n",
        "5자리 숫자중 가장 큰 수 99666  6으로 시작하는 수를  제외한 각자리 숫자는 (9-1)+9개씩  =8*((9-1)+9)\n"
      ],
      "metadata": {
        "id": "po5oucAKTtqa"
      },
      "execution_count": null,
      "outputs": []
    },
    {
      "cell_type": "markdown",
      "source": [
        "땅 위에 달팽이가 있다. 이 달팽이는 높이가 V미터인 나무 막대를 올라갈 것이다.\n",
        "\n",
        "달팽이는 낮에 A미터 올라갈 수 있다. 하지만, 밤에 잠을 자는 동안 B미터 미끄러진다. 또, 정상에 올라간 후에는 미끄러지지 않는다.\n",
        "\n",
        "달팽이가 나무 막대를 모두 올라가려면, 며칠이 걸리는지 구하는 프로그램을 작성하시오."
      ],
      "metadata": {
        "id": "olgCnRG9Vre6"
      }
    },
    {
      "cell_type": "code",
      "source": [
        "#a+b*n일 >=v-a\n",
        "\n",
        "a,b,v=map(int, input().split())\n",
        "\n",
        "def count_days(a,b,v):\n",
        "  if (v-a)%(a-b)==0:\n",
        "    return (v-a)//(a-b)+1\n",
        "  else:\n",
        "    return (v-a)//(a-b)+2\n",
        "print(count_days(a,b,v))"
      ],
      "metadata": {
        "colab": {
          "base_uri": "https://localhost:8080/"
        },
        "id": "EC-OaqzcVuNY",
        "outputId": "73c8e832-6d25-4351-bc89-eed7979547f8"
      },
      "execution_count": null,
      "outputs": [
        {
          "output_type": "stream",
          "name": "stdout",
          "text": [
            "100 99 1000000000\n",
            "999999901\n"
          ]
        }
      ]
    },
    {
      "cell_type": "code",
      "source": [
        "print(a)\n",
        "print(b)\n",
        "print(v)"
      ],
      "metadata": {
        "colab": {
          "base_uri": "https://localhost:8080/"
        },
        "id": "dpnn4ecuWSd9",
        "outputId": "a6016fa6-6309-4f2c-acc2-f4a5479fc06e"
      },
      "execution_count": null,
      "outputs": [
        {
          "output_type": "stream",
          "name": "stdout",
          "text": [
            "2\n",
            "1\n",
            "5\n"
          ]
        }
      ]
    },
    {
      "cell_type": "markdown",
      "source": [
        "양수 A가 N의 진짜 약수가 되려면, N이 A의 배수이고, A가 1과 N이 아니어야 한다. 어떤 수 N의 진짜 약수가 모두 주어질 때, N을 구하는 프로그램을 작성하시오."
      ],
      "metadata": {
        "id": "wpfxAeOwX5CI"
      }
    },
    {
      "cell_type": "code",
      "source": [
        "num_list= [4,2]\n",
        "print(num_list)\n",
        "\n",
        "\n",
        "#num_list에 속하는 모든 수가 n으로 나눠떨어지는지 확인\n",
        "#하나라도 나눠 떨어지지 않다면 약수가 아님 -> 하나 더해서 다음 수로 확인\n",
        "# def \n",
        "start_n =max(num_list)+1\n",
        "while True:\n",
        "  for a in num_list:\n",
        "    print(start_n,a)\n",
        "    if start_n%a!=0:\n",
        "      # print('if문 탔다', start_n, a)\n",
        "      start_n+=1\n",
        "      \n",
        "  print(start_n)\n",
        "  break\n",
        "  \n",
        "\n",
        "  "
      ],
      "metadata": {
        "colab": {
          "base_uri": "https://localhost:8080/"
        },
        "id": "N-q7p1lMX4bc",
        "outputId": "e5b82ea7-07d1-4ef0-cbd4-04320c2c9efb"
      },
      "execution_count": null,
      "outputs": [
        {
          "output_type": "stream",
          "name": "stdout",
          "text": [
            "[4, 2]\n",
            "5 4\n",
            "6 2\n",
            "6\n"
          ]
        }
      ]
    },
    {
      "cell_type": "code",
      "source": [
        ""
      ],
      "metadata": {
        "id": "wwxNTwX6Zqai"
      },
      "execution_count": null,
      "outputs": []
    },
    {
      "cell_type": "code",
      "source": [
        "\n",
        "\n",
        "# num_list= [4,2]\n",
        "# print(num_list)\n",
        "\n",
        "n =input()\n",
        "num_list = list(map(int,input().split()))\n",
        "\n",
        "#num_list에 속하는 모든 수가 n으로 나눠떨어지는지 확인\n",
        "#하나라도 나눠 떨어지지 않다면 약수가 아님 -> 하나 더해서 다음 수로 확인\n",
        "\n",
        "a=8\n",
        "start_n =max(num_list)+1\n",
        "while True:\n",
        "  if False in [bool(start_n%num==0) for num in num_list]:\n",
        "\n",
        "    start_n+=1\n",
        "  else:\n",
        "    print(start_n)\n",
        "    break\n"
      ],
      "metadata": {
        "colab": {
          "base_uri": "https://localhost:8080/"
        },
        "id": "MiF7suF9UuEz",
        "outputId": "7f2ed960-f2f1-4ab8-e00c-3befcecef9d8"
      },
      "execution_count": null,
      "outputs": [
        {
          "output_type": "stream",
          "name": "stdout",
          "text": [
            "14 26456 2 28 13228 3307 7 23149 8 6614 46298 56 4 92596\n",
            "14 26456 2 28 13228 3307 7 23149 8 6614 46298 56 4 92596\n",
            "185192\n"
          ]
        }
      ]
    },
    {
      "cell_type": "code",
      "source": [
        "\"\""
      ],
      "metadata": {
        "id": "IXLlphVtWMc9"
      },
      "execution_count": null,
      "outputs": []
    }
  ]
}