{
  "nbformat": 4,
  "nbformat_minor": 0,
  "metadata": {
    "colab": {
      "provenance": [],
      "authorship_tag": "ABX9TyMNTHQZPeUDZ1f7ovzVeTif",
      "include_colab_link": true
    },
    "kernelspec": {
      "name": "python3",
      "display_name": "Python 3"
    },
    "language_info": {
      "name": "python"
    }
  },
  "cells": [
    {
      "cell_type": "markdown",
      "metadata": {
        "id": "view-in-github",
        "colab_type": "text"
      },
      "source": [
        "<a href=\"https://colab.research.google.com/github/Madung2/BaekJoon/blob/main/programmers0903.ipynb\" target=\"_parent\"><img src=\"https://colab.research.google.com/assets/colab-badge.svg\" alt=\"Open In Colab\"/></a>"
      ]
    },
    {
      "cell_type": "markdown",
      "source": [
        "프로그래머스 행렬의 곱샘\n",
        "\n",
        "2차원 행렬 arr1과 arr2를 입력받아, arr1에 arr2를 곱한 결과를 반환하는 함수, solution을 완성해주세요.\n",
        "\n",
        "제한 조건\n",
        "행렬 arr1, arr2의 행과 열의 길이는 2 이상 100 이하입니다.\n",
        "행렬 arr1, arr2의 원소는 -10 이상 20 이하인 자연수입니다.\n",
        "곱할 수 있는 배열만 주어집니다.\n",
        "입출력 예"
      ],
      "metadata": {
        "id": "df2oCREvcgqQ"
      }
    },
    {
      "cell_type": "code",
      "execution_count": null,
      "metadata": {
        "id": "KIbmETIgcfhm"
      },
      "outputs": [],
      "source": [
        "arr1=[[2, 3, 2], [4, 2, 4], [3, 1, 4]]\n",
        "\n",
        "arr2= [[5, 4, 3], [2, 4, 1], [3, 1, 1]]"
      ]
    },
    {
      "cell_type": "code",
      "source": [
        "matrix = [list([0]*len(arr2[0])) for _ in range(len(arr1))]\n",
        "print(matrix)"
      ],
      "metadata": {
        "colab": {
          "base_uri": "https://localhost:8080/"
        },
        "id": "3m0qSNd2c2U2",
        "outputId": "ab424b02-86d9-4602-962d-4b55d708967a"
      },
      "execution_count": null,
      "outputs": [
        {
          "output_type": "stream",
          "name": "stdout",
          "text": [
            "[[0, 0], [0, 0], [0, 0]]\n"
          ]
        }
      ]
    },
    {
      "cell_type": "code",
      "source": [
        "#matrix[0][0]==arr1[0][0]*arr2[0][0]"
      ],
      "metadata": {
        "id": "982Sj8aIex3t"
      },
      "execution_count": null,
      "outputs": []
    },
    {
      "cell_type": "code",
      "source": [
        "\n",
        "for x in range(2):\n",
        "  matrix[x][y]"
      ],
      "metadata": {
        "id": "9B3tzbzzgM7g"
      },
      "execution_count": null,
      "outputs": []
    },
    {
      "cell_type": "code",
      "source": [
        "lis=sum([arr1[0][y]*arr2[y][0] for y in range(len(arr2[0]))])\n",
        "print(lis)"
      ],
      "metadata": {
        "colab": {
          "base_uri": "https://localhost:8080/"
        },
        "id": "TUB-Vnj3gmJw",
        "outputId": "5a16ad20-daa4-4484-9a0f-24d9fd6ac17d"
      },
      "execution_count": null,
      "outputs": [
        {
          "output_type": "stream",
          "name": "stdout",
          "text": [
            "15\n"
          ]
        }
      ]
    },
    {
      "cell_type": "code",
      "source": [
        "print(sum([arr1[0][y]*arr2[y][0] for y in range(len(arr2[0]))]))\n",
        "print(sum([arr1[0][y]*arr2[y][1] for y in range(len(arr2[0]))]))\n",
        "print(sum([arr1[1][y]*arr2[y][0] for y in range(len(arr2[0]))]))\n",
        "print(sum([arr1[1][y]*arr2[y][1] for y in range(len(arr2[0]))]))\n",
        "print(sum([arr1[2][y]*arr2[y][0] for y in range(len(arr2[0]))]))\n",
        "print(sum([arr1[2][y]*arr2[y][1] for y in range(len(arr2[0]))]))"
      ],
      "metadata": {
        "colab": {
          "base_uri": "https://localhost:8080/"
        },
        "id": "K0GqTcehhmNf",
        "outputId": "5d8452a3-5336-49b4-c04c-9dcc9c941ec7"
      },
      "execution_count": null,
      "outputs": [
        {
          "output_type": "stream",
          "name": "stdout",
          "text": [
            "15\n",
            "15\n",
            "15\n",
            "15\n",
            "15\n",
            "15\n"
          ]
        }
      ]
    },
    {
      "cell_type": "code",
      "source": [
        "# for z in range(len(arr2)):\n",
        "# for a in range(len(arr1)):\n",
        "print([[sum([arr1[a][y]*arr2[y][z] for y in range(len(arr2[0]))]) for z in range(len(arr2))] for a in range(len(arr1))])"
      ],
      "metadata": {
        "colab": {
          "base_uri": "https://localhost:8080/"
        },
        "id": "MGs0IwnkvrFI",
        "outputId": "bef011bc-fb3d-4337-ae2f-09d4c784c5c1"
      },
      "execution_count": null,
      "outputs": [
        {
          "output_type": "stream",
          "name": "stdout",
          "text": [
            "[[22, 22, 11], [36, 28, 18], [29, 20, 14]]\n"
          ]
        }
      ]
    }
  ]
}