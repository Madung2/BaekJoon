{
  "nbformat": 4,
  "nbformat_minor": 0,
  "metadata": {
    "colab": {
      "name": "BaekJoon0823.ipynb",
      "provenance": [],
      "authorship_tag": "ABX9TyPY850XeA62L+zIyX6dO65D",
      "include_colab_link": true
    },
    "kernelspec": {
      "name": "python3",
      "display_name": "Python 3"
    },
    "language_info": {
      "name": "python"
    }
  },
  "cells": [
    {
      "cell_type": "markdown",
      "metadata": {
        "id": "view-in-github",
        "colab_type": "text"
      },
      "source": [
        "<a href=\"https://colab.research.google.com/github/Madung2/BaekJoon/blob/main/BaekJoon0823.ipynb\" target=\"_parent\"><img src=\"https://colab.research.google.com/assets/colab-badge.svg\" alt=\"Open In Colab\"/></a>"
      ]
    },
    {
      "cell_type": "markdown",
      "source": [
        "재귀함수1. 피보나치수"
      ],
      "metadata": {
        "id": "OP6KzF7ptK2v"
      }
    },
    {
      "cell_type": "code",
      "execution_count": null,
      "metadata": {
        "colab": {
          "base_uri": "https://localhost:8080/"
        },
        "id": "oWebMh9QtKCo",
        "outputId": "098df3ec-bd50-45fd-c0ae-aced720455bd"
      },
      "outputs": [
        {
          "name": "stdout",
          "output_type": "stream",
          "text": [
            "10\n"
          ]
        },
        {
          "output_type": "execute_result",
          "data": {
            "text/plain": [
              "55"
            ]
          },
          "metadata": {},
          "execution_count": 13
        }
      ],
      "source": [
        "def find_fibonacci(n):\n",
        "  if n==0:\n",
        "    return 0\n",
        "  elif n==1:\n",
        "    return 1\n",
        "  return find_fibonacci(n-1)+find_fibonacci(n-2)\n",
        "n=int(input())\n",
        "find_fibonacci(n)\n"
      ]
    },
    {
      "cell_type": "markdown",
      "source": [
        "팩토리얼"
      ],
      "metadata": {
        "id": "TPBds_tvyIYv"
      }
    },
    {
      "cell_type": "code",
      "source": [
        "def find_fact(n):\n",
        "  if n==1 or n==0:\n",
        "    return 1\n",
        "  return n*(find_fact(n-1))"
      ],
      "metadata": {
        "id": "bTZP6jzJxJmZ"
      },
      "execution_count": null,
      "outputs": []
    },
    {
      "cell_type": "code",
      "source": [
        "print(find_fact(int(input())))"
      ],
      "metadata": {
        "colab": {
          "base_uri": "https://localhost:8080/"
        },
        "id": "G0vf3DvgxfTW",
        "outputId": "7f540e29-0065-47dc-8677-97d15b5c997b"
      },
      "execution_count": null,
      "outputs": [
        {
          "output_type": "stream",
          "name": "stdout",
          "text": [
            "0\n",
            "1\n"
          ]
        }
      ]
    },
    {
      "cell_type": "markdown",
      "source": [
        "재귀함수가 뭔가요?"
      ],
      "metadata": {
        "id": "srbsheDayPt5"
      }
    },
    {
      "cell_type": "markdown",
      "source": [
        ""
      ],
      "metadata": {
        "id": "uJTq6zTjzo-0"
      }
    },
    {
      "cell_type": "code",
      "source": [
        "0은\n",
        "어느 한 컴퓨터공학과 학생이 유명한 교수님을 찾아가 물었다.\n",
        "\"재귀함수가 뭔가요?\"\n",
        "\"재귀함수는 자기 자신을 호출하는 함수라네\"\n",
        "라고 답변하였지.\n",
        "\n",
        "1은\n",
        "어느 한 컴퓨터공학과 학생이 유명한 교수님을 찾아가 물었다.\n",
        "\"재귀함수가 뭔가요?\"\n",
        "\"잘 들어보게. 옛날옛날 한 산 꼭대기에 이세상 모든 지식을 통달한 선인이 있었어.\n",
        "마을 사람들은 모두 그 선인에게 수많은 질문을 했고, 모두 지혜롭게 대답해 주었지.\n",
        "그의 답은 대부분 옳았다고 하네. 그런데 어느 날, 그 선인에게 한 선비가 찾아와서 물었어.\"\n",
        "____\"재귀함수가 뭔가요?\"\n",
        "____\"재귀함수는 자기 자신을 호출하는 함수라네\"\n",
        "____라고 답변하였지.\n",
        "라고 답변하였지."
      ],
      "metadata": {
        "id": "MRSvWY9Bzpns"
      },
      "execution_count": null,
      "outputs": []
    },
    {
      "cell_type": "code",
      "source": [
        "n=int(input())\n",
        "string='\\n\"재귀함수가 뭔가요?\"\\n\"잘 들어보게. 옛날옛날 한 산 꼭대기에 이세상 모든 지식을 통달한 선인이 있었어.\\n마을 사람들은 모두 그 선인에게 수많은 질문을 했고, 모두 지혜롭게 대답해 주었지.\\n그의 답은 대부분 옳았다고 하네. 그런데 어느 날, 그 선인에게 한 선비가 찾아와서 물었어.\"'\n",
        "string2='\\n라고 답변하였지.'\n",
        "\n",
        "def result(n):\n",
        "  if n==0:\n",
        "    return('\\n\"재귀함수가 뭔가요?\"\\n\"재귀함수는 자기 자신을 호출하는 함수라네\"\\n라고 답변하였지.')\n",
        "  if n!=0:\n",
        "    mid=result(n-1).replace('\\n','\\n____')\n",
        "    return string+mid+string2\n",
        "  \n",
        "print('어느 한 컴퓨터공학과 학생이 유명한 교수님을 찾아가 물었다.'+result(n))\n",
        "\n",
        "\n"
      ],
      "metadata": {
        "colab": {
          "base_uri": "https://localhost:8080/"
        },
        "id": "ZkaImGxGyHGe",
        "outputId": "adf97fd0-6322-4b5b-d0d2-401467eb3048"
      },
      "execution_count": null,
      "outputs": [
        {
          "output_type": "stream",
          "name": "stdout",
          "text": [
            "어느 한 컴퓨터공학과 학생이 유명한 교수님을 찾아가 물었다.\n",
            "\"재귀함수가 뭔가요?\"\n",
            "\"잘 들어보게. 옛날옛날 한 산 꼭대기에 이세상 모든 지식을 통달한 선인이 있었어.\n",
            "마을 사람들은 모두 그 선인에게 수많은 질문을 했고, 모두 지혜롭게 대답해 주었지.\n",
            "그의 답은 대부분 옳았다고 하네. 그런데 어느 날, 그 선인에게 한 선비가 찾아와서 물었어.\"\n",
            "____\"재귀함수가 뭔가요?\"\n",
            "____\"잘 들어보게. 옛날옛날 한 산 꼭대기에 이세상 모든 지식을 통달한 선인이 있었어.\n",
            "____마을 사람들은 모두 그 선인에게 수많은 질문을 했고, 모두 지혜롭게 대답해 주었지.\n",
            "____그의 답은 대부분 옳았다고 하네. 그런데 어느 날, 그 선인에게 한 선비가 찾아와서 물었어.\"\n",
            "________\"재귀함수가 뭔가요?\"\n",
            "________\"재귀함수는 자기 자신을 호출하는 함수라네\"\n",
            "________라고 답변하였지.\n",
            "____라고 답변하였지.\n",
            "라고 답변하였지.\n"
          ]
        }
      ]
    }
  ]
}