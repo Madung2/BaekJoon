{
  "nbformat": 4,
  "nbformat_minor": 0,
  "metadata": {
    "colab": {
      "name": "BaekJoon0728",
      "provenance": [],
      "authorship_tag": "ABX9TyP433oXLJE8P2Ezl+jLCwET",
      "include_colab_link": true
    },
    "kernelspec": {
      "name": "python3",
      "display_name": "Python 3"
    },
    "language_info": {
      "name": "python"
    }
  },
  "cells": [
    {
      "cell_type": "markdown",
      "metadata": {
        "id": "view-in-github",
        "colab_type": "text"
      },
      "source": [
        "<a href=\"https://colab.research.google.com/github/Madung2/BaekJoon/blob/main/BaekJoon0728.ipynb\" target=\"_parent\"><img src=\"https://colab.research.google.com/assets/colab-badge.svg\" alt=\"Open In Colab\"/></a>"
      ]
    },
    {
      "cell_type": "markdown",
      "source": [
        "상근이는 요즘 설탕공장에서 설탕을 배달하고 있다. 상근이는 지금 사탕가게에 설탕을 정확하게 N킬로그램을 배달해야 한다. 설탕공장에서 만드는 설탕은 봉지에 담겨져 있다. 봉지는 3킬로그램 봉지와 5킬로그램 봉지가 있다.\n",
        "\n",
        "상근이는 귀찮기 때문에, 최대한 적은 봉지를 들고 가려고 한다. 예를 들어, 18킬로그램 설탕을 배달해야 할 때, 3킬로그램 봉지 6개를 가져가도 되지만, 5킬로그램 3개와 3킬로그램 1개를 배달하면, 더 적은 개수의 봉지를 배달할 수 있다.\n",
        "\n",
        "상근이가 설탕을 정확하게 N킬로그램 배달해야 할 때, 봉지 몇 개를 가져가면 되는지 그 수를 구하는 프로그램을 작성하시오."
      ],
      "metadata": {
        "id": "tryW6h87zfdQ"
      }
    },
    {
      "cell_type": "code",
      "execution_count": null,
      "metadata": {
        "id": "swpUT6nYyGla"
      },
      "outputs": [],
      "source": [
        "#3과 5를 사용해서 나누어 떨어지는지\n",
        "#나누어떨어질때 가장 5를 많이 사용하는 값은 무엇인지"
      ]
    },
    {
      "cell_type": "code",
      "source": [
        "num=int(input())\n",
        "\n",
        "if num%5==0:\n",
        "  dec_num= num/5 \n",
        "else:\n",
        "  dec_num= num//5 \n",
        "def count_sack(dec_num):\n",
        "  for i in range(dec_num,-1,-1):\n",
        "    if (num-(i*5))%3==0:\n",
        "      j=(num-(i*5))//3\n",
        "      return i+j\n",
        "  return -1\n",
        "print(count_sack(dec_num))\n",
        "\n",
        "  \n"
      ],
      "metadata": {
        "colab": {
          "base_uri": "https://localhost:8080/"
        },
        "id": "gL9X2AqEztVF",
        "outputId": "2057fbad-9014-4eca-8808-e839a6972cb1"
      },
      "execution_count": null,
      "outputs": [
        {
          "name": "stdout",
          "output_type": "stream",
          "text": [
            "11\n"
          ]
        },
        {
          "output_type": "execute_result",
          "data": {
            "text/plain": [
              "3"
            ]
          },
          "metadata": {},
          "execution_count": 32
        }
      ]
    },
    {
      "cell_type": "code",
      "source": [
        "#여기서 부터 5로 나눈 나머지 값이 3으로 나눠지는지 확인한다\n",
        "def count_sack(dec_num):\n",
        "  for i in range(dec_num,-1,-1):\n",
        "    if (num-(i*5))%3==0:\n",
        "      j=(num-(i*5))//3\n",
        "      return(True, i+j)\n",
        "  return -1\n",
        "count_sack(dec_num)\n",
        "\n"
      ],
      "metadata": {
        "colab": {
          "base_uri": "https://localhost:8080/"
        },
        "id": "uiQVeo2s2WIf",
        "outputId": "d914d34c-af2b-4da2-e3ad-1e4dcf272c3b"
      },
      "execution_count": null,
      "outputs": [
        {
          "output_type": "execute_result",
          "data": {
            "text/plain": [
              "(True, 3)"
            ]
          },
          "metadata": {},
          "execution_count": 26
        }
      ]
    },
    {
      "cell_type": "markdown",
      "source": [
        "우현이는 어린 시절, 지구 외의 다른 행성에서도 인류들이 살아갈 수 있는 미래가 오리라 믿었다. 그리고 그가 지구라는 세상에 발을 내려 놓은 지 23년이 지난 지금, 세계 최연소 ASNA 우주 비행사가 되어 새로운 세계에 발을 내려 놓는 영광의 순간을 기다리고 있다.\n",
        "\n",
        "그가 탑승하게 될 우주선은 Alpha Centauri라는 새로운 인류의 보금자리를 개척하기 위한 대규모 생활 유지 시스템을 탑재하고 있기 때문에, 그 크기와 질량이 엄청난 이유로 최신기술력을 총 동원하여 개발한 공간이동 장치를 탑재하였다. 하지만 이 공간이동 장치는 이동 거리를 급격하게 늘릴 경우 기계에 심각한 결함이 발생하는 단점이 있어서, 이전 작동시기에 k광년을 이동하였을 때는 k-1 , k 혹은 k+1 광년만을 다시 이동할 수 있다. 예를 들어, 이 장치를 처음 작동시킬 경우 -1 , 0 , 1 광년을 이론상 이동할 수 있으나 사실상 음수 혹은 0 거리만큼의 이동은 의미가 없으므로 1 광년을 이동할 수 있으며, 그 다음에는 0 , 1 , 2 광년을 이동할 수 있는 것이다. ( 여기서 다시 2광년을 이동한다면 다음 시기엔 1, 2, 3 광년을 이동할 수 있다. )\n",
        "\n",
        "\n",
        "\n",
        "김우현은 공간이동 장치 작동시의 에너지 소모가 크다는 점을 잘 알고 있기 때문에 x지점에서 y지점을 향해 최소한의 작동 횟수로 이동하려 한다. 하지만 y지점에 도착해서도 공간 이동장치의 안전성을 위하여 y지점에 도착하기 바로 직전의 이동거리는 반드시 1광년으로 하려 한다.\n",
        "\n",
        "김우현을 위해 x지점부터 정확히 y지점으로 이동하는데 필요한 공간 이동 장치 작동 횟수의 최솟값을 구하는 프로그램을 작성하라."
      ],
      "metadata": {
        "id": "YvMeUnReL6oT"
      }
    },
    {
      "cell_type": "code",
      "source": [
        "1 2 3 4 3 2 1\n",
        "1234554321\n",
        "123434321\n",
        "12344544321\n",
        "1\n",
        "11\n",
        "111\n",
        "121\n",
        "1211 3:1 4:2  5:2 \n",
        "1221\n",
        "12121\n",
        "12221\n",
        "12321 5:1, 6:3, 7:3\n",
        "123211\n",
        "123221\n",
        "123321\n",
        "1233211\n",
        "1233221\n",
        "1233321\n",
        "1234321\n",
        "//1만 사용하는게 3개 1, 1, 1\n",
        "//2까지만 사용하는게 5개 1, 2, 2\n",
        "3까지만 사용하는 게 7개 1. 3. 3.\n",
        "4까지만 사용하는게 9개 1, 4, 4\n",
        "...\n",
        "//n까지만 사용하는게 1+2+3+4+...(n+1)+1+2+3+...(n)-1\n",
        "X=만큼의 이동 거리를 갈려고 할때\n",
        "\n",
        "거리가 X일때 X-1/2가 사용하는 최대 숫자\n",
        "\n",
        "최대숫자가 n이면 \n",
        "거리가 2n일  경우 n\n",
        "2n-1일 경우 1\n",
        "2n+1일 경우 n+1\n",
        "\n",
        "\n",
        "1->1\n",
        "2->2\n",
        "3->3\n",
        "4->3  2*2 2*2-1\n",
        "5->4 2의 제곱+1 2*2\n",
        "6->4  2*3  2*2\n",
        "7->5\n",
        "8->5\n",
        "9->5  3의 제곱은 3*2-1\n",
        "10 6\n",
        "11 6\n",
        "12 6  3*4=> \n",
        "13 7\n",
        "14 7\n",
        "15 7\n",
        "16 7\n",
        "\n",
        "\n",
        "n의 제곱이면 n*2-1\n",
        "n+1의 제곱-1 + n의 제곱/2 \n",
        "\n"
      ],
      "metadata": {
        "id": "nSZYOpWeMVEH"
      },
      "execution_count": null,
      "outputs": []
    },
    {
      "cell_type": "code",
      "source": [
        "#n까지만 사용하는 수를 구하는함수\n",
        "n=5\n",
        "def max_num(n):\n",
        "  a=0\n",
        "  b=0\n",
        "\n",
        "  for i in range(n+2):\n",
        "    a=a+i\n",
        "  for j in range(n+1):\n",
        "    b=b+j\n",
        "  return(a+b-1)\n",
        "max_num(n)-max_num(n-1)"
      ],
      "metadata": {
        "colab": {
          "base_uri": "https://localhost:8080/"
        },
        "id": "-QLEiAALPht6",
        "outputId": "0374d6ee-7c8e-4160-b08d-fd5af93e783d"
      },
      "execution_count": null,
      "outputs": [
        {
          "output_type": "execute_result",
          "data": {
            "text/plain": [
              "11"
            ]
          },
          "metadata": {},
          "execution_count": 40
        }
      ]
    },
    {
      "cell_type": "code",
      "source": [
        ""
      ],
      "metadata": {
        "id": "LZDZTQlhSnVs"
      },
      "execution_count": null,
      "outputs": []
    },
    {
      "cell_type": "markdown",
      "source": [
        "베르트랑 공준은 임의의 자연수 n에 대하여, n보다 크고, 2n보다 작거나 같은 소수는 적어도 하나 존재한다는 내용을 담고 있다.\n",
        "\n",
        "이 명제는 조제프 베르트랑이 1845년에 추측했고, 파프누티 체비쇼프가 1850년에 증명했다.\n",
        "\n",
        "예를 들어, 10보다 크고, 20보다 작거나 같은 소수는 4개가 있다. (11, 13, 17, 19) 또, 14보다 크고, 28보다 작거나 같은 소수는 3개가 있다. (17,19, 23)\n",
        "\n",
        "자연수 n이 주어졌을 때, n보다 크고, 2n보다 작거나 같은 소수의 개수를 구하는 프로그램을 작성하시오. "
      ],
      "metadata": {
        "id": "G50qbxIB-ebR"
      }
    },
    {
      "cell_type": "code",
      "source": [
        "# 소수 구하는 식\n",
        "#소수 중에서 n보다 크고 2n보다 작은 소수 갯수 구하는 식"
      ],
      "metadata": {
        "id": "DhcD2Yr1-h_o"
      },
      "execution_count": null,
      "outputs": []
    },
    {
      "cell_type": "code",
      "source": [
        "#특정수가 소수인지 확인하기\n",
        "def check_num(num):\n",
        "  for i in range(2,num):\n",
        "    if (num%i==0):\n",
        "      return False\n",
        "\n",
        "  return True\n",
        "\n",
        "\n",
        "# n보다 작거나 같은  소수 갯수 구하기\n",
        "def count_num(n):\n",
        "  count=0\n",
        "  for i in range(2,n+1):#특정수가 소수인지 확인하는걸 n까지 반복 실행\n",
        "    if check_num(i)==True:\n",
        "      count+=1\n",
        "  return count\n",
        "\n",
        "n=int(input())\n",
        "\n",
        "print(count_num(2*n)-count_num(n))\n",
        "\n",
        "\n"
      ],
      "metadata": {
        "colab": {
          "base_uri": "https://localhost:8080/"
        },
        "id": "Cjr4jSbS-qW3",
        "outputId": "091e2312-ae6d-4a2b-a9eb-4609f4a3dcb3"
      },
      "execution_count": 15,
      "outputs": [
        {
          "output_type": "stream",
          "name": "stdout",
          "text": [
            "5\n",
            "1\n"
          ]
        }
      ]
    },
    {
      "cell_type": "markdown",
      "source": [
        "위 식을 줄여보자"
      ],
      "metadata": {
        "id": "VMJbX-mnD57r"
      }
    },
    {
      "cell_type": "code",
      "source": [
        "def count_num2(n):\n",
        "  count=0\n",
        "  for i in range(2, (n+1)):\n",
        "    for j in range(2, n):\n",
        "      if i%j==0:\n",
        "        break\n",
        "    count+=1\n",
        "  return count\n",
        "\n",
        "count_num2(5)\n"
      ],
      "metadata": {
        "colab": {
          "base_uri": "https://localhost:8080/"
        },
        "id": "WeOX_0a_D5ez",
        "outputId": "ac2a0746-b219-4263-f403-4223c3c69eb6"
      },
      "execution_count": 18,
      "outputs": [
        {
          "output_type": "execute_result",
          "data": {
            "text/plain": [
              "4"
            ]
          },
          "metadata": {},
          "execution_count": 18
        }
      ]
    }
  ]
}