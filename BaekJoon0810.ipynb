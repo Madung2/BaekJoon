{
  "nbformat": 4,
  "nbformat_minor": 0,
  "metadata": {
    "colab": {
      "name": "BaekJoon0810.ipynb",
      "provenance": [],
      "authorship_tag": "ABX9TyOwaH5JM7JUqtH0seFDWrV0",
      "include_colab_link": true
    },
    "kernelspec": {
      "name": "python3",
      "display_name": "Python 3"
    },
    "language_info": {
      "name": "python"
    }
  },
  "cells": [
    {
      "cell_type": "markdown",
      "metadata": {
        "id": "view-in-github",
        "colab_type": "text"
      },
      "source": [
        "<a href=\"https://colab.research.google.com/github/Madung2/BaekJoon/blob/main/BaekJoon0810.ipynb\" target=\"_parent\"><img src=\"https://colab.research.google.com/assets/colab-badge.svg\" alt=\"Open In Colab\"/></a>"
      ]
    },
    {
      "cell_type": "markdown",
      "source": [
        "정수를 저장하는 큐를 구현한 다음, 입력으로 주어지는 명령을 처리하는 프로그램을 작성하시오.\n",
        "\n",
        "명령은 총 여섯 가지이다.\n",
        "\n",
        "push X: 정수 X를 큐에 넣는 연산이다.\n",
        "pop: 큐에서 가장 앞에 있는 정수를 빼고, 그 수를 출력한다. 만약 큐에 들어있는 정수가 없는 경우에는 -1을 출력한다.\n",
        "size: 큐에 들어있는 정수의 개수를 출력한다.\n",
        "empty: 큐가 비어있으면 1, 아니면 0을 출력한다.\n",
        "front: 큐의 가장 앞에 있는 정수를 출력한다. 만약 큐에 들어있는 정수가 없는 경우에는 -1을 출력한다.\n",
        "back: 큐의 가장 뒤에 있는 정수를 출력한다. 만약 큐에 들어있는 정수가 없는 경우에는 -1을 출력한다.\n",
        "입력\n",
        "첫째 줄에 주어지는 명령의 수 N (1 ≤ N ≤ 2,000,000)이 주어진다. 둘째 줄부터 N개의 줄에는 명령이 하나씩 주어진다. 주어지는 정수는 1보다 크거나 같고, 100,000보다 작거나 같다. 문제에 나와있지 않은 명령이 주어지는 경우는 없다."
      ],
      "metadata": {
        "id": "dgwoSx5CJcld"
      }
    },
    {
      "cell_type": "code",
      "execution_count": 5,
      "metadata": {
        "colab": {
          "base_uri": "https://localhost:8080/"
        },
        "id": "Tx8OSPdKJQnr",
        "outputId": "ca93c46c-20ff-43e9-f6d5-05174ecd7cde"
      },
      "outputs": [
        {
          "output_type": "stream",
          "name": "stdout",
          "text": [
            "15\n",
            "push 1\n",
            "push 2\n",
            "front\n",
            "1\n",
            "back\n",
            "2\n",
            "size\n",
            "2\n",
            "empty\n",
            "0\n",
            "pop\n",
            "1\n",
            "pop\n",
            "2\n",
            "pop\n",
            "-1\n",
            "size\n",
            "0\n",
            "empty\n",
            "1\n",
            "pop\n",
            "-1\n",
            "push 3\n",
            "empty\n",
            "0\n",
            "front\n",
            "3\n"
          ]
        }
      ],
      "source": [
        "n=int(input())\n",
        "que=[]\n",
        "for i in range(n):\n",
        "  command=list(input().split())\n",
        "  if command[0] == 'push':\n",
        "    que.append(command[1])\n",
        "  if command[0]== 'pop':\n",
        "    try:\n",
        "      print(que.pop(0))\n",
        "    except:\n",
        "      print(-1)\n",
        "  if command[0]== 'size':\n",
        "    print(len(que))\n",
        "  if command[0]== 'empty':\n",
        "    if len(que)==0:\n",
        "      print(1)\n",
        "    else:\n",
        "      print(0)\n",
        "  if command[0]== 'front':\n",
        "    if len(que)!=0:\n",
        "      print(que[0])\n",
        "    else:\n",
        "      print(-1)\n",
        "  if command[0]== 'back':\n",
        "    if len(que)!=0:\n",
        "      print(que[-1])\n",
        "    else:\n",
        "      print(-1)"
      ]
    },
    {
      "cell_type": "markdown",
      "source": [
        "\n",
        "수를 처리하는 것은 통계학에서 상당히 중요한 일이다. 통계학에서 N개의 수를 대표하는 기본 통계값에는 다음과 같은 것들이 있다. 단, N은 홀수라고 가정하자.\n",
        "\n",
        "산술평균 : N개의 수들의 합을 N으로 나눈 값\n",
        "중앙값 : N개의 수들을 증가하는 순서로 나열했을 경우 그 중앙에 위치하는 값\n",
        "최빈값 : N개의 수들 중 가장 많이 나타나는 값\n",
        "범위 : N개의 수들 중 최댓값과 최솟값의 차이\n",
        "N개의 수가 주어졌을 때, 네 가지 기본 통계값을 구하는 프로그램을 작성하시오."
      ],
      "metadata": {
        "id": "yN9siyqzMV_Y"
      }
    },
    {
      "cell_type": "code",
      "source": [
        "n=int(input())\n",
        "# ls=[]\n",
        "ls=[int(input()) for i in range(n)]\n",
        "print(ls)\n",
        "print(round(sum(ls)/len(ls)))#산술평균\n",
        "print(sorted(ls)[int((n-1)/2)]) #중앙값\n",
        "array=[]\n",
        "for i in ls:\n",
        "  count=0\n",
        "  for j in ls:\n",
        "    if i==j:\n",
        "      count+=1\n",
        "  array.append(count)\n",
        "index=[i for i in range(len(array)) if array[i] == max(array)]\n",
        "try:\n",
        "  print(sorted(index)[1])\n",
        "except:\n",
        "  print(ls[0])\n",
        "    \n",
        "print(max(ls)-min(ls))#범위\n",
        "\n"
      ],
      "metadata": {
        "colab": {
          "base_uri": "https://localhost:8080/"
        },
        "id": "t-_7kRT1M1XV",
        "outputId": "6290ecc9-70de-428c-aa39-7080fc768923"
      },
      "execution_count": 46,
      "outputs": [
        {
          "output_type": "stream",
          "name": "stdout",
          "text": [
            "3\n",
            "0\n",
            "0\n",
            "-1\n",
            "[0, 0, -1]\n",
            "0\n",
            "0\n",
            "1\n",
            "1\n"
          ]
        }
      ]
    },
    {
      "cell_type": "code",
      "source": [
        "ls=[1, 3, 8, -2, 2]\n",
        "n=5\n",
        "# print((n-1)/2)\n",
        "# print(sorted(ls)[2])\n",
        "print(sorted(ls)[int((n-1)/2)])"
      ],
      "metadata": {
        "colab": {
          "base_uri": "https://localhost:8080/"
        },
        "id": "GO9cFWccP96k",
        "outputId": "24ced90b-696e-4416-cc71-9064c79b21d3"
      },
      "execution_count": 27,
      "outputs": [
        {
          "output_type": "stream",
          "name": "stdout",
          "text": [
            "2\n"
          ]
        }
      ]
    },
    {
      "cell_type": "code",
      "source": [
        "print(max(ls)-min(ls))"
      ],
      "metadata": {
        "colab": {
          "base_uri": "https://localhost:8080/"
        },
        "id": "e_KFGrmaQf3W",
        "outputId": "07e32c22-c608-4302-9190-05c0143650b6"
      },
      "execution_count": 20,
      "outputs": [
        {
          "output_type": "stream",
          "name": "stdout",
          "text": [
            "10\n"
          ]
        }
      ]
    },
    {
      "cell_type": "code",
      "source": [
        "array=[]\n",
        "for i in ls:\n",
        "  count=0\n",
        "  for j in ls:\n",
        "    if i==j:\n",
        "      count+=1\n",
        "  array.append(count)"
      ],
      "metadata": {
        "colab": {
          "base_uri": "https://localhost:8080/"
        },
        "id": "x41qHxQwQ2Wr",
        "outputId": "ab1b19bb-eb29-4a04-acf7-de6e35ecbe6d"
      },
      "execution_count": 28,
      "outputs": [
        {
          "output_type": "stream",
          "name": "stdout",
          "text": [
            "1\n",
            "1\n",
            "1\n",
            "1\n",
            "1\n"
          ]
        }
      ]
    },
    {
      "cell_type": "code",
      "source": [
        "print(array)"
      ],
      "metadata": {
        "colab": {
          "base_uri": "https://localhost:8080/"
        },
        "id": "RcbgrzGAR4ZT",
        "outputId": "16b0a245-fd98-4247-beb2-b2549e14e4a3"
      },
      "execution_count": 30,
      "outputs": [
        {
          "output_type": "stream",
          "name": "stdout",
          "text": [
            "[1, 1, 1, 1, 1]\n"
          ]
        }
      ]
    },
    {
      "cell_type": "code",
      "source": [
        "index=[i for i in range(len(array)) if array[i] == max(array)]\n",
        "print(sorted(index)[1])\n",
        "    "
      ],
      "metadata": {
        "colab": {
          "base_uri": "https://localhost:8080/"
        },
        "id": "VfcWpsAWScVn",
        "outputId": "f8a5c45e-7532-4719-b908-ced484757620"
      },
      "execution_count": 36,
      "outputs": [
        {
          "output_type": "stream",
          "name": "stdout",
          "text": [
            "1\n"
          ]
        }
      ]
    }
  ]
}