{
  "nbformat": 4,
  "nbformat_minor": 0,
  "metadata": {
    "colab": {
      "name": "Baekjoon0801",
      "provenance": [],
      "authorship_tag": "ABX9TyNuifeW+8/VcvnJ5IPmw2Lq",
      "include_colab_link": true
    },
    "kernelspec": {
      "name": "python3",
      "display_name": "Python 3"
    },
    "language_info": {
      "name": "python"
    }
  },
  "cells": [
    {
      "cell_type": "markdown",
      "metadata": {
        "id": "view-in-github",
        "colab_type": "text"
      },
      "source": [
        "<a href=\"https://colab.research.google.com/github/Madung2/BaekJoon/blob/main/Baekjoon0801.ipynb\" target=\"_parent\"><img src=\"https://colab.research.google.com/assets/colab-badge.svg\" alt=\"Open In Colab\"/></a>"
      ]
    },
    {
      "cell_type": "markdown",
      "source": [
        "최대공약수와 최소공배수"
      ],
      "metadata": {
        "id": "BHMpcRd9k6QS"
      }
    },
    {
      "cell_type": "code",
      "execution_count": null,
      "metadata": {
        "colab": {
          "base_uri": "https://localhost:8080/"
        },
        "id": "--QDTVv6k36V",
        "outputId": "d961bd3b-6156-46b0-bd3a-d3473c7bba59"
      },
      "outputs": [
        {
          "name": "stdout",
          "output_type": "stream",
          "text": [
            "24 18\n"
          ]
        },
        {
          "output_type": "execute_result",
          "data": {
            "text/plain": [
              "6"
            ]
          },
          "metadata": {},
          "execution_count": 4
        }
      ],
      "source": [
        "a,b = map(int,input().split())\n",
        "def gc_factor(a,b):\n",
        "  start=min(a,b)\n",
        "  while True:\n",
        "    if a%start==0 and b%start==0:\n",
        "      return start\n",
        "    else:\n",
        "      start=start-1\n",
        "\n",
        "gc_factor(a,b)\n",
        "  "
      ]
    },
    {
      "cell_type": "code",
      "source": [
        "def gc_divisor(a,b):\n",
        "  start=max(a,b)\n",
        "  while True:\n",
        "    if start%a==0 and start%b==0:\n",
        "      return start\n",
        "    else:\n",
        "      start =start+1\n",
        "gc_divisor(a,b)"
      ],
      "metadata": {
        "colab": {
          "base_uri": "https://localhost:8080/"
        },
        "id": "RgkK_99-l6vr",
        "outputId": "8440e320-6628-4cd9-833a-b1c9e9a88eac"
      },
      "execution_count": null,
      "outputs": [
        {
          "output_type": "execute_result",
          "data": {
            "text/plain": [
              "72"
            ]
          },
          "metadata": {},
          "execution_count": 5
        }
      ]
    },
    {
      "cell_type": "markdown",
      "source": [
        "소수구하기: M이상 N이하의 소수를 모두 출력하는 프로그램을 작성하시오."
      ],
      "metadata": {
        "id": "GlvjDg1-nuXw"
      }
    },
    {
      "cell_type": "code",
      "source": [
        "#n이라는 숫자가 소수인지 확인하기\n",
        "def check_prime_num(n):\n",
        "  ls=[]\n",
        "  for a in range(2, n-1):\n",
        "    if n%a==0:\n",
        "      return False\n",
        "  return True"
      ],
      "metadata": {
        "id": "lLRhRxMFnzUE"
      },
      "execution_count": null,
      "outputs": []
    },
    {
      "cell_type": "code",
      "source": [
        "#M이상 N이하의 소수를 모두 출력하는 프로그램을 작성하시오.\n",
        "\n",
        "def check_all_prime(m,n):\n",
        "  for a in range(m, n+1):\n",
        "    if check_prime_num(a)==True:\n",
        "      print(a)\n",
        "map(int,input().split())"
      ],
      "metadata": {
        "id": "qY2s6Nh5qKgz"
      },
      "execution_count": null,
      "outputs": []
    }
  ]
}