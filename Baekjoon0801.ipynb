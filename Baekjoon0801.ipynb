{
  "nbformat": 4,
  "nbformat_minor": 0,
  "metadata": {
    "colab": {
      "name": "Baekjoon0801",
      "provenance": [],
      "authorship_tag": "ABX9TyPcc9/ke3zVwB3xllIITFPy",
      "include_colab_link": true
    },
    "kernelspec": {
      "name": "python3",
      "display_name": "Python 3"
    },
    "language_info": {
      "name": "python"
    }
  },
  "cells": [
    {
      "cell_type": "markdown",
      "metadata": {
        "id": "view-in-github",
        "colab_type": "text"
      },
      "source": [
        "<a href=\"https://colab.research.google.com/github/Madung2/BaekJoon/blob/main/Baekjoon0801.ipynb\" target=\"_parent\"><img src=\"https://colab.research.google.com/assets/colab-badge.svg\" alt=\"Open In Colab\"/></a>"
      ]
    },
    {
      "cell_type": "markdown",
      "source": [
        "최대공약수와 최소공배수"
      ],
      "metadata": {
        "id": "BHMpcRd9k6QS"
      }
    },
    {
      "cell_type": "code",
      "execution_count": null,
      "metadata": {
        "colab": {
          "base_uri": "https://localhost:8080/"
        },
        "id": "--QDTVv6k36V",
        "outputId": "d961bd3b-6156-46b0-bd3a-d3473c7bba59"
      },
      "outputs": [
        {
          "name": "stdout",
          "output_type": "stream",
          "text": [
            "24 18\n"
          ]
        },
        {
          "output_type": "execute_result",
          "data": {
            "text/plain": [
              "6"
            ]
          },
          "metadata": {},
          "execution_count": 4
        }
      ],
      "source": [
        "a,b = map(int,input().split())\n",
        "def gc_factor(a,b):\n",
        "  start=min(a,b)\n",
        "  while True:\n",
        "    if a%start==0 and b%start==0:\n",
        "      return start\n",
        "    else:\n",
        "      start=start-1\n",
        "\n",
        "gc_factor(a,b)\n",
        "  "
      ]
    },
    {
      "cell_type": "code",
      "source": [
        "def gc_divisor(a,b):\n",
        "  start=max(a,b)\n",
        "  while True:\n",
        "    if start%a==0 and start%b==0:\n",
        "      return start\n",
        "    else:\n",
        "      start =start+1\n",
        "gc_divisor(a,b)"
      ],
      "metadata": {
        "colab": {
          "base_uri": "https://localhost:8080/"
        },
        "id": "RgkK_99-l6vr",
        "outputId": "8440e320-6628-4cd9-833a-b1c9e9a88eac"
      },
      "execution_count": null,
      "outputs": [
        {
          "output_type": "execute_result",
          "data": {
            "text/plain": [
              "72"
            ]
          },
          "metadata": {},
          "execution_count": 5
        }
      ]
    },
    {
      "cell_type": "markdown",
      "source": [
        "소수구하기: M이상 N이하의 소수를 모두 출력하는 프로그램을 작성하시오."
      ],
      "metadata": {
        "id": "GlvjDg1-nuXw"
      }
    },
    {
      "cell_type": "code",
      "source": [
        "#n이라는 숫자가 소수인지 확인하기\n",
        "def check_prime_num(n):\n",
        "  ls=[]\n",
        "  for a in range(2, n-1):\n",
        "    if n%a==0:\n",
        "      return False\n",
        "  return True"
      ],
      "metadata": {
        "id": "lLRhRxMFnzUE"
      },
      "execution_count": null,
      "outputs": []
    },
    {
      "cell_type": "code",
      "source": [
        "#M이상 N이하의 소수를 모두 출력하는 프로그램을 작성하시오.\n",
        "\n",
        "def check_all_prime(m,n):\n",
        "  for a in range(m, n+1):\n",
        "    if check_prime_num(a)==True:\n",
        "      print(a)\n",
        "map(int,input().split())"
      ],
      "metadata": {
        "id": "qY2s6Nh5qKgz"
      },
      "execution_count": null,
      "outputs": []
    },
    {
      "cell_type": "markdown",
      "source": [
        "ACM호텔"
      ],
      "metadata": {
        "id": "kekGVf47Uj0m"
      }
    },
    {
      "cell_type": "code",
      "source": [
        "H01\n",
        "n번째 손님을 먼저 H로 나눈 몫과 나머지가 \n",
        "\n",
        "몫이-> 몫+1이 1의자리 숫자가 됨,, 몫+1\n",
        "나머지가100의 자리 숫자 \n",
        "\n",
        "\n",
        "\n"
      ],
      "metadata": {
        "id": "lBOY2hnCUmIf"
      },
      "execution_count": null,
      "outputs": []
    },
    {
      "cell_type": "code",
      "source": [
        "#6 12 10\n",
        "h,w,n=map(int,input().split())\n",
        "print(h)\n",
        "print(w)\n",
        "print(n)\n"
      ],
      "metadata": {
        "colab": {
          "base_uri": "https://localhost:8080/"
        },
        "id": "8KhSMeL0VdLL",
        "outputId": "30ddbc27-fa09-47be-84cc-384c5d47742c"
      },
      "execution_count": 18,
      "outputs": [
        {
          "output_type": "stream",
          "name": "stdout",
          "text": [
            "30 50 72\n",
            "30\n",
            "50\n",
            "72\n"
          ]
        }
      ]
    },
    {
      "cell_type": "code",
      "source": [
        "o_num=n//h+1\n",
        "h_num=n%h"
      ],
      "metadata": {
        "id": "q9J_U0sgV6Ox"
      },
      "execution_count": 16,
      "outputs": []
    },
    {
      "cell_type": "code",
      "source": [
        "if n%h==0:\n",
        "  h_num=h\n",
        "if o_num<10: \n",
        "  print(int(str(h_num)+'0'+str(o_num)))\n",
        "elif o_num>=10:\n",
        "  print(int(str(h_num)+'0'+str(o_num)))"
      ],
      "metadata": {
        "colab": {
          "base_uri": "https://localhost:8080/"
        },
        "id": "4qnWoLOxWw6D",
        "outputId": "b6ba4c42-e53f-497b-88c9-658063a026d0"
      },
      "execution_count": 17,
      "outputs": [
        {
          "output_type": "stream",
          "name": "stdout",
          "text": [
            "1203\n"
          ]
        }
      ]
    },
    {
      "cell_type": "code",
      "source": [
        "def get_room_num(h,w,n):\n",
        "  o_num=n//h+1\n",
        "  h_num=n%h\n",
        "  if n%h==0:\n",
        "    h_num=h\n",
        "  if o_num<10: \n",
        "    print(int(str(h_num)+'0'+str(o_num)))\n",
        "  elif o_num>=10:\n",
        "    print(int(str(h_num)+'0'+str(o_num)))"
      ],
      "metadata": {
        "id": "KtNR8CsiX9oM"
      },
      "execution_count": 21,
      "outputs": []
    },
    {
      "cell_type": "code",
      "source": [
        "# h,w,n=map(int,input().split())\n",
        "num =int(input())\n",
        "for i in range(num):\n",
        "  h,w,n=map(int,input().split())\n",
        "  get_room_num(h,w,n)\n"
      ],
      "metadata": {
        "colab": {
          "base_uri": "https://localhost:8080/"
        },
        "id": "ITNzTAfPYSu8",
        "outputId": "c2c847a3-a678-479b-ea45-018743112f28"
      },
      "execution_count": 22,
      "outputs": [
        {
          "output_type": "stream",
          "name": "stdout",
          "text": [
            "2\n",
            "6 12 10\n",
            "402\n",
            "30 50 72\n",
            "1203\n"
          ]
        }
      ]
    }
  ]
}