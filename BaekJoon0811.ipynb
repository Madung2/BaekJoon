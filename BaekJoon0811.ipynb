{
  "nbformat": 4,
  "nbformat_minor": 0,
  "metadata": {
    "colab": {
      "name": "BaekJoon0811",
      "provenance": [],
      "authorship_tag": "ABX9TyOp1yiAx/v6sVlVUmDM10lW",
      "include_colab_link": true
    },
    "kernelspec": {
      "name": "python3",
      "display_name": "Python 3"
    },
    "language_info": {
      "name": "python"
    }
  },
  "cells": [
    {
      "cell_type": "markdown",
      "metadata": {
        "id": "view-in-github",
        "colab_type": "text"
      },
      "source": [
        "<a href=\"https://colab.research.google.com/github/Madung2/BaekJoon/blob/main/BaekJoon0811.ipynb\" target=\"_parent\"><img src=\"https://colab.research.google.com/assets/colab-badge.svg\" alt=\"Open In Colab\"/></a>"
      ]
    },
    {
      "cell_type": "code",
      "execution_count": null,
      "metadata": {
        "colab": {
          "base_uri": "https://localhost:8080/"
        },
        "id": "mRXdwvMQQcOg",
        "outputId": "a0379876-5207-4cd6-ad42-54c09da2e086"
      },
      "outputs": [
        {
          "name": "stdout",
          "output_type": "stream",
          "text": [
            "8\n",
            "1 1 0 0 0 0 1 1\n",
            "1 1 0 0 0 0 1 1\n",
            "0 0 0 0 1 1 0 0\n",
            "0 0 0 0 1 1 0 0\n",
            "1 0 0 0 1 1 1 1\n",
            "0 1 0 0 1 1 1 1\n",
            "0 0 1 1 1 1 1 1\n",
            "0 0 1 1 1 1 1 1\n"
          ]
        }
      ],
      "source": [
        "blue=True\n",
        "white=False\n",
        "\n",
        "n=int(input())\n",
        "\n",
        "graph = [list(map(int,input().split())) for i in range(n)]\n",
        "\n",
        "\n"
      ]
    },
    {
      "cell_type": "code",
      "source": [
        "print(graph)"
      ],
      "metadata": {
        "colab": {
          "base_uri": "https://localhost:8080/"
        },
        "id": "nCA7AiIOR1IN",
        "outputId": "85bf9109-dd3b-4ca9-cea9-47ebf8f082fe"
      },
      "execution_count": null,
      "outputs": [
        {
          "output_type": "stream",
          "name": "stdout",
          "text": [
            "[[1, 1, 0, 0, 0, 0, 1, 1], [1, 1, 0, 0, 0, 0, 1, 1], [0, 0, 0, 0, 1, 1, 0, 0], [0, 0, 0, 0, 1, 1, 0, 0], [1, 0, 0, 0, 1, 1, 1, 1], [0, 1, 0, 0, 1, 1, 1, 1], [0, 0, 1, 1, 1, 1, 1, 1], [0, 0, 1, 1, 1, 1, 1, 1]]\n"
          ]
        }
      ]
    },
    {
      "cell_type": "code",
      "source": [
        "#1단계\n",
        "graph[0][0]~graph[3][3]\n",
        "\n",
        "graph[0][4]~graph[3][7]\n",
        "\n",
        "graph[4][0]~graph[7][3]\n",
        "\n",
        "graph[4][4]~graph[7][7]\n",
        "\n"
      ],
      "metadata": {
        "id": "_vGtNCdwSF-Y"
      },
      "execution_count": null,
      "outputs": []
    },
    {
      "cell_type": "code",
      "source": [
        "#1단계\n",
        "graph[0][0]~graph[n/2-1][n/2-1]]\n",
        "\n",
        "graph[0][n/2]~graph[][7]\n",
        "\n",
        "graph[4][0]~graph[7][3]\n",
        "\n",
        "graph[4][4]~graph[7][7]\n"
      ],
      "metadata": {
        "id": "zG4RaZAzQ7nR"
      },
      "execution_count": null,
      "outputs": []
    },
    {
      "cell_type": "markdown",
      "source": [
        "자연수 N과 M이 주어졌을 때, 아래 조건을 만족하는 길이가 M인 수열을 모두 구하는 프로그램을 작성하시오.\n",
        "\n",
        "1부터 N까지 자연수 중에서 중복 없이 M개를 고른 수열\n",
        "고른 수열은 오름차순이어야 한다.\n",
        "한 줄에 하나씩 문제의 조건을 만족하는 수열을 출력한다. 중복되는 수열을 여러 번 출력하면 안되며, 각 수열은 공백으로 구분해서 출력해야 한다.\n",
        "\n",
        "수열은 사전 순으로 증가하는 순서로 출력해야 한다."
      ],
      "metadata": {
        "id": "oY0bPMx6RoR7"
      }
    },
    {
      "cell_type": "code",
      "source": [
        "#1 2 3 중 에 1개 선택하기\n",
        "\n",
        "n= int(input())\n",
        "for i in range(1,n+1):\n",
        "  print(i)"
      ],
      "metadata": {
        "colab": {
          "base_uri": "https://localhost:8080/"
        },
        "id": "kyNUaqF4TH5-",
        "outputId": "984c234c-1270-4a82-c87e-66b3a6e17e86"
      },
      "execution_count": null,
      "outputs": [
        {
          "output_type": "stream",
          "name": "stdout",
          "text": [
            "3\n",
            "1\n",
            "2\n",
            "3\n"
          ]
        }
      ]
    },
    {
      "cell_type": "code",
      "source": [
        "#1 2 3 4 중에 2개를 선택하기\n",
        "\n",
        "n= int(input())\n",
        "for i in range(1, n):\n",
        "  for j in range(i+1,n+1):\n",
        "    print(i,j)\n"
      ],
      "metadata": {
        "colab": {
          "base_uri": "https://localhost:8080/"
        },
        "id": "OCijbDVjR2vD",
        "outputId": "cdc9d030-3070-4d55-8ab8-2318aced59f6"
      },
      "execution_count": null,
      "outputs": [
        {
          "output_type": "stream",
          "name": "stdout",
          "text": [
            "4\n",
            "1 2\n",
            "1 3\n",
            "1 4\n",
            "2 3\n",
            "2 4\n",
            "3 4\n"
          ]
        }
      ]
    },
    {
      "cell_type": "code",
      "source": [
        "#1 2 3 4  중 에 4개 선택하기\n",
        "\n",
        "n= int(input())\n",
        "for i in range(1,n-2):\n",
        "  for j in range(i+1,n-1):\n",
        "    for k in range(j+1,n):\n",
        "      for l in range(k+1, n+1):\n",
        "        print(i,j,k,l)"
      ],
      "metadata": {
        "colab": {
          "base_uri": "https://localhost:8080/"
        },
        "id": "6iCVabCMTVm4",
        "outputId": "b2b5e4c9-8a57-4e92-8292-ce7804414c52"
      },
      "execution_count": null,
      "outputs": [
        {
          "output_type": "stream",
          "name": "stdout",
          "text": [
            "4\n",
            "1 2 3 4\n"
          ]
        }
      ]
    },
    {
      "cell_type": "code",
      "source": [
        "import itertools\n",
        "N,M=map(int,input().split())\n",
        "\n",
        "for i in list(itertools.combinations(range(1,N+1), M)):\n",
        "  print(*i)"
      ],
      "metadata": {
        "colab": {
          "base_uri": "https://localhost:8080/",
          "height": 264
        },
        "id": "QQpZ7J_vmmKa",
        "outputId": "c214c1e4-2166-401c-d8d6-dbb85d4152ae"
      },
      "execution_count": 8,
      "outputs": [
        {
          "name": "stdout",
          "output_type": "stream",
          "text": [
            "4 \n"
          ]
        },
        {
          "output_type": "error",
          "ename": "ValueError",
          "evalue": "ignored",
          "traceback": [
            "\u001b[0;31m---------------------------------------------------------------------------\u001b[0m",
            "\u001b[0;31mValueError\u001b[0m                                Traceback (most recent call last)",
            "\u001b[0;32m<ipython-input-8-b548bcf79da2>\u001b[0m in \u001b[0;36m<module>\u001b[0;34m()\u001b[0m\n\u001b[1;32m      1\u001b[0m \u001b[0;32mimport\u001b[0m \u001b[0mitertools\u001b[0m\u001b[0;34m\u001b[0m\u001b[0;34m\u001b[0m\u001b[0m\n\u001b[0;32m----> 2\u001b[0;31m \u001b[0mN\u001b[0m\u001b[0;34m,\u001b[0m\u001b[0mM\u001b[0m\u001b[0;34m=\u001b[0m\u001b[0mmap\u001b[0m\u001b[0;34m(\u001b[0m\u001b[0mint\u001b[0m\u001b[0;34m,\u001b[0m\u001b[0minput\u001b[0m\u001b[0;34m(\u001b[0m\u001b[0;34m)\u001b[0m\u001b[0;34m.\u001b[0m\u001b[0msplit\u001b[0m\u001b[0;34m(\u001b[0m\u001b[0;34m)\u001b[0m\u001b[0;34m)\u001b[0m\u001b[0;34m\u001b[0m\u001b[0;34m\u001b[0m\u001b[0m\n\u001b[0m\u001b[1;32m      3\u001b[0m \u001b[0;34m\u001b[0m\u001b[0m\n\u001b[1;32m      4\u001b[0m \u001b[0;32mfor\u001b[0m \u001b[0mi\u001b[0m \u001b[0;32min\u001b[0m \u001b[0mlist\u001b[0m\u001b[0;34m(\u001b[0m\u001b[0mitertools\u001b[0m\u001b[0;34m.\u001b[0m\u001b[0mcombinations\u001b[0m\u001b[0;34m(\u001b[0m\u001b[0mrange\u001b[0m\u001b[0;34m(\u001b[0m\u001b[0;36m1\u001b[0m\u001b[0;34m,\u001b[0m\u001b[0mN\u001b[0m\u001b[0;34m+\u001b[0m\u001b[0;36m1\u001b[0m\u001b[0;34m)\u001b[0m\u001b[0;34m,\u001b[0m \u001b[0mM\u001b[0m\u001b[0;34m)\u001b[0m\u001b[0;34m)\u001b[0m\u001b[0;34m:\u001b[0m\u001b[0;34m\u001b[0m\u001b[0;34m\u001b[0m\u001b[0m\n\u001b[1;32m      5\u001b[0m   \u001b[0mprint\u001b[0m\u001b[0;34m(\u001b[0m\u001b[0;34m*\u001b[0m\u001b[0mi\u001b[0m\u001b[0;34m)\u001b[0m\u001b[0;34m\u001b[0m\u001b[0;34m\u001b[0m\u001b[0m\n",
            "\u001b[0;31mValueError\u001b[0m: not enough values to unpack (expected 2, got 1)"
          ]
        }
      ]
    },
    {
      "cell_type": "markdown",
      "source": [
        "자연수 N과 M이 주어졌을 때, 아래 조건을 만족하는 길이가 M인 수열을 모두 구하는 프로그램을 작성하시오.\n",
        "\n",
        "1부터 N까지 자연수 중에서 중복 없이 M개를 고른 수열\n",
        "고른 수열은 오름차순이어야 한다."
      ],
      "metadata": {
        "id": "q0fsWyUWusbn"
      }
    }
  ]
}