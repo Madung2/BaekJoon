{
  "nbformat": 4,
  "nbformat_minor": 0,
  "metadata": {
    "colab": {
      "name": "BaekJoon0803",
      "provenance": [],
      "authorship_tag": "ABX9TyMlwOxxBwlRPP7mf5kbqcFc",
      "include_colab_link": true
    },
    "kernelspec": {
      "name": "python3",
      "display_name": "Python 3"
    },
    "language_info": {
      "name": "python"
    }
  },
  "cells": [
    {
      "cell_type": "markdown",
      "metadata": {
        "id": "view-in-github",
        "colab_type": "text"
      },
      "source": [
        "<a href=\"https://colab.research.google.com/github/Madung2/BaekJoon/blob/main/BaekJoon0803.ipynb\" target=\"_parent\"><img src=\"https://colab.research.google.com/assets/colab-badge.svg\" alt=\"Open In Colab\"/></a>"
      ]
    },
    {
      "cell_type": "markdown",
      "source": [
        "정수를 저장하는 스택을 구현한 다음, 입력으로 주어지는 명령을 처리하는 프로그램을 작성하시오.\n",
        "\n",
        "명령은 총 다섯 가지이다.\n",
        "\n",
        "push X: 정수 X를 스택에 넣는 연산이다.\n",
        "pop: 스택에서 가장 위에 있는 정수를 빼고, 그 수를 출력한다. 만약 스택에 들어있는 정수가 없는 경우에는 -1을 출력한다.\n",
        "size: 스택에 들어있는 정수의 개수를 출력한다.\n",
        "empty: 스택이 비어있으면 1, 아니면 0을 출력한다.\n",
        "top: 스택의 가장 위에 있는 정수를 출력한다. 만약 스택에 들어있는 정수가 없는 경우에는 -1을 출력한다."
      ],
      "metadata": {
        "id": "s1YNmsNgVBYj"
      }
    },
    {
      "cell_type": "code",
      "source": [
        "word = input().split()"
      ],
      "metadata": {
        "colab": {
          "base_uri": "https://localhost:8080/"
        },
        "id": "bL1w0IuZ-uWE",
        "outputId": "4e908787-d7d1-473d-d7db-d94c7227f6cf"
      },
      "execution_count": null,
      "outputs": [
        {
          "name": "stdout",
          "output_type": "stream",
          "text": [
            "push 1\n"
          ]
        }
      ]
    },
    {
      "cell_type": "code",
      "execution_count": null,
      "metadata": {
        "id": "FSKeFIPXUtMA",
        "colab": {
          "base_uri": "https://localhost:8080/"
        },
        "outputId": "4b0eccda-75c4-47cc-b488-c4359290b455"
      },
      "outputs": [
        {
          "output_type": "stream",
          "name": "stdout",
          "text": [
            "14\n",
            "push 1\n",
            "push 2\n",
            "top\n",
            "2\n",
            "size\n",
            "2\n",
            "empty\n",
            "0\n",
            "pop\n",
            "2\n",
            "pop\n",
            "1\n",
            "pop\n",
            "-1\n",
            "size\n",
            "0\n",
            "empty\n",
            "1\n",
            "pop\n",
            "-1\n",
            "push 3\n",
            "empty\n",
            "0\n",
            "top\n",
            "3\n"
          ]
        }
      ],
      "source": [
        "st = []\n",
        "n= int(input())\n",
        "for i in range(n):\n",
        "  word = input().split()\n",
        "  order=word[0]\n",
        "\n",
        "  if order == 'push':\n",
        "    st.append(word[1])\n",
        "  if order == 'pop':\n",
        "    if len(st)==0:\n",
        "      print(-1)\n",
        "    else:\n",
        "      print(st.pop())\n",
        "  if order == 'size':\n",
        "    print(len(st))\n",
        "  if order == 'empty':\n",
        "    if len(st)==0:\n",
        "      print(1)\n",
        "    else:\n",
        "      print(0)\n",
        "  if order =='top':\n",
        "    if len(st)==0:\n",
        "      print(-1)\n",
        "    else:\n",
        "      print(st[-1])\n"
      ]
    },
    {
      "cell_type": "code",
      "source": [
        "# 리트라이\n",
        "\n",
        "\n",
        "num=int(input())\n",
        "st=[]\n",
        "for i in range(num):\n",
        "  com = list(input().split())\n",
        "  if com[0]=='push':\n",
        "    st.append(com[1])\n",
        "  if com[0]=='pop':\n",
        "    try:\n",
        "      print(st.pop())\n",
        "    except:\n",
        "      print(-1)\n",
        "  if com[0]=='size':\n",
        "    print(len(st))\n",
        "  if com[0]=='empty':\n",
        "    if len(st)==0:\n",
        "      print(1)\n",
        "    else:\n",
        "      print(0)\n",
        "  if com[0]=='top':\n",
        "    try:\n",
        "      print(st[-1])\n",
        "    except:\n",
        "      print(-1)\n",
        "  \n",
        "  \n",
        "\n",
        "\n"
      ],
      "metadata": {
        "colab": {
          "base_uri": "https://localhost:8080/"
        },
        "id": "yfrXNdueqmA8",
        "outputId": "d58522b9-c5a1-470a-a715-17540fb7e8e7"
      },
      "execution_count": 2,
      "outputs": [
        {
          "output_type": "stream",
          "name": "stdout",
          "text": [
            "14\n",
            "push 1\n",
            "push 2\n",
            "top\n",
            "2\n",
            "size\n",
            "2\n",
            "empty\n",
            "0\n",
            "pop\n",
            "2\n",
            "pop\n",
            "1\n",
            "pop\n",
            "-1\n",
            "size\n",
            "0\n",
            "empty\n",
            "1\n",
            "pop\n",
            "-1\n",
            "push 3\n",
            "empty\n",
            "0\n",
            "top\n",
            "3\n"
          ]
        }
      ]
    },
    {
      "cell_type": "markdown",
      "source": [
        "첫 번째 줄에 정수 K가 주어진다. (1 ≤ K ≤ 100,000)\n",
        "\n",
        "이후 K개의 줄에 정수가 1개씩 주어진다. 정수는 0에서 1,000,000 사이의 값을 가지며, 정수가 \"0\" 일 경우에는 가장 최근에 쓴 수를 지우고, 아닐 경우 해당 수를 쓴다.\n",
        "\n",
        "정수가 \"0\"일 경우에 지울 수 있는 수가 있음을 보장할 수 있다."
      ],
      "metadata": {
        "id": "ojMEvmwGGwJD"
      }
    },
    {
      "cell_type": "code",
      "source": [
        "n=int(input())\n",
        "st=[]\n",
        "for i in range(n):\n",
        "  get_n=int(input())\n",
        "  if get_n==0:\n",
        "    st.pop()\n",
        "  else:\n",
        "    st.append(get_n)\n",
        "\n",
        "print(sum(st))"
      ],
      "metadata": {
        "colab": {
          "base_uri": "https://localhost:8080/"
        },
        "id": "xd16n7g4GyWv",
        "outputId": "e72869fa-3ada-4971-9ede-02613e182d55"
      },
      "execution_count": null,
      "outputs": [
        {
          "output_type": "stream",
          "name": "stdout",
          "text": [
            "10\n",
            "1\n",
            "3\n",
            "5\n",
            "4\n",
            "0\n",
            "0\n",
            "7\n",
            "0\n",
            "0\n",
            "6\n",
            "7\n"
          ]
        }
      ]
    },
    {
      "cell_type": "markdown",
      "source": [
        "괄호 문자열(Parenthesis String, PS)은 두 개의 괄호 기호인 ‘(’ 와 ‘)’ 만으로 구성되어 있는 문자열이다. 그 중에서 괄호의 모양이 바르게 구성된 문자열을 올바른 괄호 문자열(Valid PS, VPS)이라고 부른다. 한 쌍의 괄호 기호로 된 “( )” 문자열은 기본 VPS 이라고 부른다. 만일 x 가 VPS 라면 이것을 하나의 괄호에 넣은 새로운 문자열 “(x)”도 VPS 가 된다. 그리고 두 VPS x 와 y를 접합(concatenation)시킨 새로운 문자열 xy도 VPS 가 된다. 예를 들어 “(())()”와 “((()))” 는 VPS 이지만 “(()(”, “(())()))” , 그리고 “(()” 는 모두 VPS 가 아닌 문자열이다. \n",
        "\n",
        "여러분은 입력으로 주어진 괄호 문자열이 VPS 인지 아닌지를 판단해서 그 결과를 YES 와 NO 로 나타내어야 한다. "
      ],
      "metadata": {
        "id": "iICIceSOIWHk"
      }
    },
    {
      "cell_type": "code",
      "source": [
        "n=int(input())\n",
        "for i in range(n):\n",
        "  ls=list(input())\n",
        "  count=0\n",
        "  for i in ls:\n",
        "    if i=='(':\n",
        "      count+=1\n",
        "    if i==')':\n",
        "      count-=1\n",
        "    if count<0:\n",
        "      print('NO')\n",
        "      break\n",
        "  if count==0:\n",
        "    print('YES')\n",
        "  elif count>0:\n",
        "    print('NO')"
      ],
      "metadata": {
        "colab": {
          "base_uri": "https://localhost:8080/"
        },
        "id": "zEOiaFF9IYdS",
        "outputId": "3194a821-454d-45a2-a940-af9174427845"
      },
      "execution_count": null,
      "outputs": [
        {
          "output_type": "stream",
          "name": "stdout",
          "text": [
            "3\n",
            "((\n",
            "NO\n",
            "())(()\n",
            "NO\n",
            "NO\n",
            "))\n",
            "NO\n",
            "NO\n"
          ]
        }
      ]
    },
    {
      "cell_type": "code",
      "source": [
        "ls=list('(())())')\n",
        "print(ls)"
      ],
      "metadata": {
        "colab": {
          "base_uri": "https://localhost:8080/"
        },
        "id": "14yXiQ9QlEQ3",
        "outputId": "5fac42e8-fb61-40bb-9bd1-91bcd841797e"
      },
      "execution_count": null,
      "outputs": [
        {
          "output_type": "stream",
          "name": "stdout",
          "text": [
            "['(', '(', ')', ')', '(', ')', ')']\n"
          ]
        }
      ]
    },
    {
      "cell_type": "code",
      "source": [
        "ls.pop('()')\n",
        "print(ls)"
      ],
      "metadata": {
        "colab": {
          "base_uri": "https://localhost:8080/",
          "height": 191
        },
        "id": "7iqCDlgVlMuG",
        "outputId": "c9efabde-713a-4d60-fee7-d2ac23aeb72e"
      },
      "execution_count": null,
      "outputs": [
        {
          "output_type": "error",
          "ename": "TypeError",
          "evalue": "ignored",
          "traceback": [
            "\u001b[0;31m---------------------------------------------------------------------------\u001b[0m",
            "\u001b[0;31mTypeError\u001b[0m                                 Traceback (most recent call last)",
            "\u001b[0;32m<ipython-input-8-b54b13e12b24>\u001b[0m in \u001b[0;36m<module>\u001b[0;34m()\u001b[0m\n\u001b[0;32m----> 1\u001b[0;31m \u001b[0mls\u001b[0m\u001b[0;34m.\u001b[0m\u001b[0mpop\u001b[0m\u001b[0;34m(\u001b[0m\u001b[0;34m'()'\u001b[0m\u001b[0;34m)\u001b[0m\u001b[0;34m\u001b[0m\u001b[0;34m\u001b[0m\u001b[0m\n\u001b[0m\u001b[1;32m      2\u001b[0m \u001b[0mprint\u001b[0m\u001b[0;34m(\u001b[0m\u001b[0mls\u001b[0m\u001b[0;34m)\u001b[0m\u001b[0;34m\u001b[0m\u001b[0;34m\u001b[0m\u001b[0m\n",
            "\u001b[0;31mTypeError\u001b[0m: 'str' object cannot be interpreted as an integer"
          ]
        }
      ]
    }
  ]
}