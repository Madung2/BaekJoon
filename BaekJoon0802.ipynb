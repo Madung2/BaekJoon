{
  "nbformat": 4,
  "nbformat_minor": 0,
  "metadata": {
    "colab": {
      "name": "BaekJoon0802",
      "provenance": [],
      "authorship_tag": "ABX9TyPLzdaJPRwumsXI4vtvJyZE",
      "include_colab_link": true
    },
    "kernelspec": {
      "name": "python3",
      "display_name": "Python 3"
    },
    "language_info": {
      "name": "python"
    }
  },
  "cells": [
    {
      "cell_type": "markdown",
      "metadata": {
        "id": "view-in-github",
        "colab_type": "text"
      },
      "source": [
        "<a href=\"https://colab.research.google.com/github/Madung2/BaekJoon/blob/main/BaekJoon0802.ipynb\" target=\"_parent\"><img src=\"https://colab.research.google.com/assets/colab-badge.svg\" alt=\"Open In Colab\"/></a>"
      ]
    },
    {
      "cell_type": "code",
      "execution_count": 31,
      "metadata": {
        "colab": {
          "base_uri": "https://localhost:8080/"
        },
        "id": "DFx4bejz6d8q",
        "outputId": "4d849989-c21f-46fb-ca1b-b65b5453a29c"
      },
      "outputs": [
        {
          "output_type": "stream",
          "name": "stdout",
          "text": [
            "3\n",
            "###\n",
            "7\n",
            "1 3\n",
            "1 2\n",
            "3 2\n",
            "1 3\n",
            "2 1\n",
            "2 3\n",
            "1 3\n"
          ]
        }
      ],
      "source": [
        "#1번째까지 옮길때\n",
        "\n",
        "#2번째까지 옮길때 \n",
        "# 1->2\n",
        "# 1->3\n",
        "# 2->3\n",
        "\n",
        "\n",
        "\n",
        "# 3번째까지 옮길때\n",
        "# 1->3\n",
        "# 1->2\n",
        "# 3->2\n",
        "# 1->3\n",
        "# 2->1\n",
        "# 2->3\n",
        "# 1->3\n",
        "\n",
        "\n",
        "\n",
        "# 2번째까지 옮길때 횟수->3\n",
        "# 3번째까지 옮길때 횟수->3 + 1+ 3\n",
        "# 2번째까지 옮길때 횟수->3\n",
        "# 2번째까지 옮길때 횟수->3\n",
        "n=int(input())\n",
        "\n",
        "#n은 원반의 갯수\n",
        "def hanoi_num(n):\n",
        "  if n==1:\n",
        "    return 1\n",
        "  else:\n",
        "    return 2*(hanoi_num(n-1))+1\n",
        "\n",
        "print(hanoi_num(n))\n",
        "\n",
        "\n",
        "\n",
        "def hanoi_pos(n,from_p, to_p, mid_p):\n",
        "  if n==1:\n",
        "    print(from_p, to_p)\n",
        "    return\n",
        "  hanoi_pos(n-1,from_p, mid_p, to_p)\n",
        "  print(from_p,to_p)\n",
        "  hanoi_pos(n-1,mid_p,to_p, from_p)\n",
        "  # print(from_p,to_p)\n",
        "\n",
        "hanoi_pos(n, 1, 3,2)\n",
        "\n",
        "# #2단계는\n",
        "# #hanoi_pos\n",
        "# hanoi_pos(1,1,2, 3)\n",
        "# print(1,3)\n",
        "\n",
        "# hanoi_pos(1,2,3, 1)\n",
        "\n",
        "  \n",
        "\n",
        "\n",
        "\n",
        "\n"
      ]
    }
  ]
}