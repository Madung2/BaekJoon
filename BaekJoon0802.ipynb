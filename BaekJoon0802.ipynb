{
  "nbformat": 4,
  "nbformat_minor": 0,
  "metadata": {
    "colab": {
      "name": "BaekJoon0802",
      "provenance": [],
      "authorship_tag": "ABX9TyNC7vSMHxX0dMJY5pYho1e0",
      "include_colab_link": true
    },
    "kernelspec": {
      "name": "python3",
      "display_name": "Python 3"
    },
    "language_info": {
      "name": "python"
    }
  },
  "cells": [
    {
      "cell_type": "markdown",
      "metadata": {
        "id": "view-in-github",
        "colab_type": "text"
      },
      "source": [
        "<a href=\"https://colab.research.google.com/github/Madung2/BaekJoon/blob/main/BaekJoon0802.ipynb\" target=\"_parent\"><img src=\"https://colab.research.google.com/assets/colab-badge.svg\" alt=\"Open In Colab\"/></a>"
      ]
    },
    {
      "cell_type": "code",
      "execution_count": null,
      "metadata": {
        "colab": {
          "base_uri": "https://localhost:8080/"
        },
        "id": "DFx4bejz6d8q",
        "outputId": "4d849989-c21f-46fb-ca1b-b65b5453a29c"
      },
      "outputs": [
        {
          "output_type": "stream",
          "name": "stdout",
          "text": [
            "3\n",
            "###\n",
            "7\n",
            "1 3\n",
            "1 2\n",
            "3 2\n",
            "1 3\n",
            "2 1\n",
            "2 3\n",
            "1 3\n"
          ]
        }
      ],
      "source": [
        "#1번째까지 옮길때\n",
        "\n",
        "#2번째까지 옮길때 \n",
        "# 1->2\n",
        "# 1->3\n",
        "# 2->3\n",
        "\n",
        "\n",
        "\n",
        "# 3번째까지 옮길때\n",
        "# 1->3\n",
        "# 1->2\n",
        "# 3->2\n",
        "# 1->3\n",
        "# 2->1\n",
        "# 2->3\n",
        "# 1->3\n",
        "\n",
        "\n",
        "\n",
        "# 2번째까지 옮길때 횟수->3\n",
        "# 3번째까지 옮길때 횟수->3 + 1+ 3\n",
        "# 2번째까지 옮길때 횟수->3\n",
        "# 2번째까지 옮길때 횟수->3\n",
        "n=int(input())\n",
        "\n",
        "#n은 원반의 갯수\n",
        "def hanoi_num(n):\n",
        "  if n==1:\n",
        "    return 1\n",
        "  else:\n",
        "    return 2*(hanoi_num(n-1))+1\n",
        "\n",
        "print(hanoi_num(n))\n",
        "\n",
        "\n",
        "\n",
        "def hanoi_pos(n,from_p, to_p, mid_p):\n",
        "  if n==1:\n",
        "    print(from_p, to_p)\n",
        "    return\n",
        "  hanoi_pos(n-1,from_p, mid_p, to_p)\n",
        "  print(from_p,to_p)\n",
        "  hanoi_pos(n-1,mid_p,to_p, from_p)\n",
        "  # print(from_p,to_p)\n",
        "\n",
        "hanoi_pos(n, 1, 3,2)\n",
        "\n",
        "# #2단계는\n",
        "# #hanoi_pos\n",
        "# hanoi_pos(1,1,2, 3)\n",
        "# print(1,3)\n",
        "\n",
        "# hanoi_pos(1,2,3, 1)\n",
        "\n",
        "  \n",
        "\n",
        "\n",
        "\n",
        "\n"
      ]
    },
    {
      "cell_type": "markdown",
      "source": [
        "2차원 평면 위의 점 n개가 주어진 가 y좌표가 증가하는 순으로 y좌표가 같으면 x좌표가 증가하는 순으로 정렬한 다음 출력하는 프로그램을 작성하시오"
      ],
      "metadata": {
        "id": "3iv_YYnPZWs6"
      }
    },
    {
      "cell_type": "code",
      "source": [
        "for "
      ],
      "metadata": {
        "id": "8V0hJ8LaZWD8"
      },
      "execution_count": null,
      "outputs": []
    },
    {
      "cell_type": "markdown",
      "source": [
        "상근이는 나무 M미터가 필요하다. 근처에 나무를 구입할 곳이 모두 망해버렸기 때문에, 정부에 벌목 허가를 요청했다. 정부는 상근이네 집 근처의 나무 한 줄에 대한 벌목 허가를 내주었고, 상근이는 새로 구입한 목재절단기를 이용해서 나무를 구할것이다.\n",
        "\n",
        "목재절단기는 다음과 같이 동작한다. 먼저, 상근이는 절단기에 높이 H를 지정해야 한다. 높이를 지정하면 톱날이 땅으로부터 H미터 위로 올라간다. 그 다음, 한 줄에 연속해있는 나무를 모두 절단해버린다. 따라서, 높이가 H보다 큰 나무는 H 위의 부분이 잘릴 것이고, 낮은 나무는 잘리지 않을 것이다. 예를 들어, 한 줄에 연속해있는 나무의 높이가 20, 15, 10, 17이라고 하자. 상근이가 높이를 15로 지정했다면, 나무를 자른 뒤의 높이는 15, 15, 10, 15가 될 것이고, 상근이는 길이가 5인 나무와 2인 나무를 들고 집에 갈 것이다. (총 7미터를 집에 들고 간다) 절단기에 설정할 수 있는 높이는 양의 정수 또는 0이다.\n",
        "\n",
        "상근이는 환경에 매우 관심이 많기 때문에, 나무를 필요한 만큼만 집으로 가져가려고 한다. 이때, 적어도 M미터의 나무를 집에 가져가기 위해서 절단기에 설정할 수 있는 높이의 최댓값을 구하는 프로그램을 작성하시오."
      ],
      "metadata": {
        "id": "NJKAvE8Cd6MM"
      }
    },
    {
      "cell_type": "code",
      "source": [
        "n, need_lumber= map(int, input().split())\n",
        "trees = list(map(int, input().split()))\n",
        "h=max(trees)\n",
        "\n",
        "\n",
        "while True:\n",
        "  get_lumber=0\n",
        "  for t in trees:\n",
        "    if h<t:\n",
        "      get_lumber+=t-h\n",
        "  if get_lumber>=need_lumber:\n",
        "    print(h)\n",
        "    break\n",
        "  else:\n",
        "    h=h-1\n",
        "\n"
      ],
      "metadata": {
        "id": "RVtJabtVd53G",
        "colab": {
          "base_uri": "https://localhost:8080/"
        },
        "outputId": "bcc41df8-405f-4dc5-a6da-b6ae4903dd02"
      },
      "execution_count": null,
      "outputs": [
        {
          "output_type": "stream",
          "name": "stdout",
          "text": [
            "5 20\n",
            "4 42 40 26 46\n",
            "36\n"
          ]
        }
      ]
    }
  ]
}